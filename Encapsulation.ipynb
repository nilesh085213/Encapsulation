{
 "cells": [
  {
   "cell_type": "code",
   "execution_count": 1,
   "id": "9643a5e7-9126-454e-b56e-909a872e5c35",
   "metadata": {},
   "outputs": [],
   "source": [
    "class test :\n",
    "    \n",
    "    \n",
    "    def __init__(self, a , b):\n",
    "        self.a = a\n",
    "        self.b = b"
   ]
  },
  {
   "cell_type": "code",
   "execution_count": 2,
   "id": "8287e200-12c8-4f8d-8c48-fcdb0d721aee",
   "metadata": {},
   "outputs": [],
   "source": [
    "t = test(23,34)"
   ]
  },
  {
   "cell_type": "code",
   "execution_count": 4,
   "id": "81fc6a4f-ed1e-48c9-81e7-ac3c53e7c43f",
   "metadata": {},
   "outputs": [],
   "source": [
    "t.a = 26439734"
   ]
  },
  {
   "cell_type": "code",
   "execution_count": 5,
   "id": "8365c361-b6f8-428f-9759-a881a9e703dd",
   "metadata": {},
   "outputs": [
    {
     "data": {
      "text/plain": [
       "26439734"
      ]
     },
     "execution_count": 5,
     "metadata": {},
     "output_type": "execute_result"
    }
   ],
   "source": [
    "t.a"
   ]
  },
  {
   "cell_type": "code",
   "execution_count": 21,
   "id": "5a6ed2fe-f8ab-4be5-9678-f0f141395387",
   "metadata": {},
   "outputs": [],
   "source": [
    "class car:\n",
    "    def __init__(self, year, make, model, speed):\n",
    "        self.__year = year\n",
    "        self.__make = make\n",
    "        self.__model = model\n",
    "        self.__speed = 0\n",
    "        \n",
    "    def set_speed(self, speed):\n",
    "        self.__speed = 0 if speed < 0 else speed\n",
    "        \n",
    "    def get_speed(self):\n",
    "        return self.__speed"
   ]
  },
  {
   "cell_type": "code",
   "execution_count": 22,
   "id": "358cbf92-8428-464c-a27e-3ce2d9b81a54",
   "metadata": {},
   "outputs": [],
   "source": [
    "c = car(2021, \"toyata\", \"inova\", 12)"
   ]
  },
  {
   "cell_type": "code",
   "execution_count": 23,
   "id": "f47ea972-6046-48a2-8902-75f34a9792e5",
   "metadata": {},
   "outputs": [
    {
     "ename": "AttributeError",
     "evalue": "'car' object has no attribute 'year'",
     "output_type": "error",
     "traceback": [
      "\u001b[0;31m---------------------------------------------------------------------------\u001b[0m",
      "\u001b[0;31mAttributeError\u001b[0m                            Traceback (most recent call last)",
      "Cell \u001b[0;32mIn[23], line 1\u001b[0m\n\u001b[0;32m----> 1\u001b[0m \u001b[43mc\u001b[49m\u001b[38;5;241;43m.\u001b[39;49m\u001b[43myear\u001b[49m\n",
      "\u001b[0;31mAttributeError\u001b[0m: 'car' object has no attribute 'year'"
     ]
    }
   ],
   "source": [
    "c.year"
   ]
  },
  {
   "cell_type": "code",
   "execution_count": 24,
   "id": "f3dd8adc-6b2d-4666-98d0-7bf56cc523cc",
   "metadata": {},
   "outputs": [
    {
     "ename": "AttributeError",
     "evalue": "'car' object has no attribute '__year'",
     "output_type": "error",
     "traceback": [
      "\u001b[0;31m---------------------------------------------------------------------------\u001b[0m",
      "\u001b[0;31mAttributeError\u001b[0m                            Traceback (most recent call last)",
      "Cell \u001b[0;32mIn[24], line 1\u001b[0m\n\u001b[0;32m----> 1\u001b[0m \u001b[43mc\u001b[49m\u001b[38;5;241;43m.\u001b[39;49m\u001b[43m__year\u001b[49m\n",
      "\u001b[0;31mAttributeError\u001b[0m: 'car' object has no attribute '__year'"
     ]
    }
   ],
   "source": [
    "c.__year"
   ]
  },
  {
   "cell_type": "code",
   "execution_count": 25,
   "id": "6b95496c-f0d5-444b-8ae8-492ff188721f",
   "metadata": {},
   "outputs": [
    {
     "data": {
      "text/plain": [
       "2021"
      ]
     },
     "execution_count": 25,
     "metadata": {},
     "output_type": "execute_result"
    }
   ],
   "source": [
    "c._car__year"
   ]
  },
  {
   "cell_type": "code",
   "execution_count": 27,
   "id": "a382ff40-52b9-4d6e-8af7-e6ba695262e3",
   "metadata": {},
   "outputs": [],
   "source": [
    "c.set_speed(-75)"
   ]
  },
  {
   "cell_type": "code",
   "execution_count": 28,
   "id": "ef465252-ea9e-4ce7-9e70-0d69aec037ff",
   "metadata": {},
   "outputs": [
    {
     "data": {
      "text/plain": [
       "0"
      ]
     },
     "execution_count": 28,
     "metadata": {},
     "output_type": "execute_result"
    }
   ],
   "source": [
    "c.get_speed()"
   ]
  },
  {
   "cell_type": "code",
   "execution_count": 29,
   "id": "1bc7be3d-387f-413f-a537-def0b07318b7",
   "metadata": {},
   "outputs": [],
   "source": [
    "c.set_speed(85)"
   ]
  },
  {
   "cell_type": "code",
   "execution_count": 30,
   "id": "9165c0d9-e378-43a2-b4b8-b229e07b0fae",
   "metadata": {},
   "outputs": [
    {
     "data": {
      "text/plain": [
       "85"
      ]
     },
     "execution_count": 30,
     "metadata": {},
     "output_type": "execute_result"
    }
   ],
   "source": [
    "c.get_speed()"
   ]
  },
  {
   "cell_type": "code",
   "execution_count": 32,
   "id": "cd9fd039-c7f3-4d35-a122-ae8b68acae82",
   "metadata": {},
   "outputs": [],
   "source": [
    "class bank_account :\n",
    "    def __init__(self, balance):\n",
    "        self.__balance = balance\n",
    "        \n",
    "    def deposite(self, amount):\n",
    "        self.__balance = self.__balance + amount\n",
    "        \n",
    "    def withdraw(self, amount):\n",
    "        if self.__balance >= amount :\n",
    "            self.__balance = self.__balance - amount\n",
    "            return True\n",
    "        else :\n",
    "            return False\n",
    "    def get_balance(self):\n",
    "        return self.__balance"
   ]
  },
  {
   "cell_type": "code",
   "execution_count": 33,
   "id": "94d835ac-30ec-4bdf-a448-f3274fb37891",
   "metadata": {},
   "outputs": [],
   "source": [
    "nilesh = bank_account(1000)"
   ]
  },
  {
   "cell_type": "code",
   "execution_count": 34,
   "id": "9aa47d33-4c54-4da0-b095-6457a6adaca8",
   "metadata": {},
   "outputs": [
    {
     "data": {
      "text/plain": [
       "1000"
      ]
     },
     "execution_count": 34,
     "metadata": {},
     "output_type": "execute_result"
    }
   ],
   "source": [
    "nilesh.get_balance()"
   ]
  },
  {
   "cell_type": "code",
   "execution_count": 35,
   "id": "c7fe67dc-b7ad-49b0-acb3-b41c703295ba",
   "metadata": {},
   "outputs": [],
   "source": [
    "nilesh.deposite(5000)"
   ]
  },
  {
   "cell_type": "code",
   "execution_count": 36,
   "id": "b7c800ab-6dfb-48b3-9c3f-2969cffaaf47",
   "metadata": {},
   "outputs": [
    {
     "data": {
      "text/plain": [
       "6000"
      ]
     },
     "execution_count": 36,
     "metadata": {},
     "output_type": "execute_result"
    }
   ],
   "source": [
    "nilesh.get_balance()"
   ]
  },
  {
   "cell_type": "code",
   "execution_count": 37,
   "id": "3e9ed50a-dd33-4f61-8aea-87b09c43fbe7",
   "metadata": {},
   "outputs": [],
   "source": [
    "nilesh.deposite(1000)"
   ]
  },
  {
   "cell_type": "code",
   "execution_count": 39,
   "id": "ba9e0144-5dfc-4b87-8fde-e6d149b3d984",
   "metadata": {},
   "outputs": [
    {
     "data": {
      "text/plain": [
       "7000"
      ]
     },
     "execution_count": 39,
     "metadata": {},
     "output_type": "execute_result"
    }
   ],
   "source": [
    "nilesh.get_balance()"
   ]
  },
  {
   "cell_type": "code",
   "execution_count": 40,
   "id": "a867e2ef-2ff1-4575-a3f6-8bcde07fd8e6",
   "metadata": {},
   "outputs": [
    {
     "data": {
      "text/plain": [
       "False"
      ]
     },
     "execution_count": 40,
     "metadata": {},
     "output_type": "execute_result"
    }
   ],
   "source": [
    "nilesh.withdraw(9000)"
   ]
  },
  {
   "cell_type": "code",
   "execution_count": null,
   "id": "eeaea4e8-0fcf-4e6c-98a7-5d34e24e2738",
   "metadata": {},
   "outputs": [],
   "source": [
    "nilesh."
   ]
  }
 ],
 "metadata": {
  "kernelspec": {
   "display_name": "Python 3 (ipykernel)",
   "language": "python",
   "name": "python3"
  },
  "language_info": {
   "codemirror_mode": {
    "name": "ipython",
    "version": 3
   },
   "file_extension": ".py",
   "mimetype": "text/x-python",
   "name": "python",
   "nbconvert_exporter": "python",
   "pygments_lexer": "ipython3",
   "version": "3.10.8"
  }
 },
 "nbformat": 4,
 "nbformat_minor": 5
}
